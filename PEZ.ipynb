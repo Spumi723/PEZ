{
 "cells": [
  {
   "cell_type": "code",
   "execution_count": 43,
   "metadata": {},
   "outputs": [],
   "source": [
    "import pandas as pd\n",
    "import matplotlib.pyplot as plt\n",
    "import numpy as np\n",
    "\n",
    "fileList = []\n",
    "indx = 0\n",
    "\n",
    "# Load the .fasta file into a dataframe\n",
    "\n",
    "with open('sample.fasta', 'r') as file:\n",
    "    for line in file:\n",
    "        if line.strip()[0] == '>':\n",
    "            entry = [[],'','B','S',[]]\n",
    "            fileList.append(entry)\n",
    "            fileList[indx][0] =  line.strip()\n",
    "            indx += 1\n",
    "        else:\n",
    "            fileList[indx-1][4] += line.strip()\n",
    "df = pd.DataFrame(fileList, columns=[\"ID\",\"DATE\",\"SPC\",\"AMB\",\"SEQ\"])\n"
   ]
  },
  {
   "cell_type": "code",
   "execution_count": 44,
   "metadata": {},
   "outputs": [
    {
     "data": {
      "text/html": [
       "<div>\n",
       "<style scoped>\n",
       "    .dataframe tbody tr th:only-of-type {\n",
       "        vertical-align: middle;\n",
       "    }\n",
       "\n",
       "    .dataframe tbody tr th {\n",
       "        vertical-align: top;\n",
       "    }\n",
       "\n",
       "    .dataframe thead th {\n",
       "        text-align: right;\n",
       "    }\n",
       "</style>\n",
       "<table border=\"1\" class=\"dataframe\">\n",
       "  <thead>\n",
       "    <tr style=\"text-align: right;\">\n",
       "      <th></th>\n",
       "      <th>ID</th>\n",
       "      <th>DATE</th>\n",
       "      <th>SPC</th>\n",
       "      <th>AMB</th>\n",
       "      <th>SEQ</th>\n",
       "    </tr>\n",
       "  </thead>\n",
       "  <tbody>\n",
       "    <tr>\n",
       "      <th>0</th>\n",
       "      <td>&gt;Genoma_CpI19_Refinada_v2</td>\n",
       "      <td></td>\n",
       "      <td>B</td>\n",
       "      <td>S</td>\n",
       "      <td>[G, T, G, T, C, G, G, A, G, G, C, T, C, C, A, ...</td>\n",
       "    </tr>\n",
       "    <tr>\n",
       "      <th>1</th>\n",
       "      <td>&gt;KU956957.1:672-1460 Escherichia coli strain 1...</td>\n",
       "      <td></td>\n",
       "      <td>B</td>\n",
       "      <td>S</td>\n",
       "      <td>[A, T, G, A, G, G, G, A, A, G, C, G, G, T, G, ...</td>\n",
       "    </tr>\n",
       "  </tbody>\n",
       "</table>\n",
       "</div>"
      ],
      "text/plain": [
       "                                                  ID DATE SPC AMB  \\\n",
       "0                          >Genoma_CpI19_Refinada_v2        B   S   \n",
       "1  >KU956957.1:672-1460 Escherichia coli strain 1...        B   S   \n",
       "\n",
       "                                                 SEQ  \n",
       "0  [G, T, G, T, C, G, G, A, G, G, C, T, C, C, A, ...  \n",
       "1  [A, T, G, A, G, G, G, A, A, G, C, G, G, T, G, ...  "
      ]
     },
     "execution_count": 44,
     "metadata": {},
     "output_type": "execute_result"
    }
   ],
   "source": [
    "df"
   ]
  },
  {
   "cell_type": "code",
   "execution_count": 45,
   "metadata": {},
   "outputs": [],
   "source": [
    "df.at[2,\"DATE\"] = '25/10/25'"
   ]
  },
  {
   "cell_type": "code",
   "execution_count": 46,
   "metadata": {},
   "outputs": [
    {
     "data": {
      "text/html": [
       "<div>\n",
       "<style scoped>\n",
       "    .dataframe tbody tr th:only-of-type {\n",
       "        vertical-align: middle;\n",
       "    }\n",
       "\n",
       "    .dataframe tbody tr th {\n",
       "        vertical-align: top;\n",
       "    }\n",
       "\n",
       "    .dataframe thead th {\n",
       "        text-align: right;\n",
       "    }\n",
       "</style>\n",
       "<table border=\"1\" class=\"dataframe\">\n",
       "  <thead>\n",
       "    <tr style=\"text-align: right;\">\n",
       "      <th></th>\n",
       "      <th>ID</th>\n",
       "      <th>DATE</th>\n",
       "      <th>SPC</th>\n",
       "      <th>AMB</th>\n",
       "      <th>SEQ</th>\n",
       "    </tr>\n",
       "  </thead>\n",
       "  <tbody>\n",
       "    <tr>\n",
       "      <th>0</th>\n",
       "      <td>&gt;Genoma_CpI19_Refinada_v2</td>\n",
       "      <td></td>\n",
       "      <td>B</td>\n",
       "      <td>S</td>\n",
       "      <td>[G, T, G, T, C, G, G, A, G, G, C, T, C, C, A, ...</td>\n",
       "    </tr>\n",
       "    <tr>\n",
       "      <th>1</th>\n",
       "      <td>&gt;KU956957.1:672-1460 Escherichia coli strain 1...</td>\n",
       "      <td></td>\n",
       "      <td>B</td>\n",
       "      <td>S</td>\n",
       "      <td>[A, T, G, A, G, G, G, A, A, G, C, G, G, T, G, ...</td>\n",
       "    </tr>\n",
       "    <tr>\n",
       "      <th>2</th>\n",
       "      <td>NaN</td>\n",
       "      <td>25/10/25</td>\n",
       "      <td>NaN</td>\n",
       "      <td>NaN</td>\n",
       "      <td>NaN</td>\n",
       "    </tr>\n",
       "  </tbody>\n",
       "</table>\n",
       "</div>"
      ],
      "text/plain": [
       "                                                  ID      DATE  SPC  AMB  \\\n",
       "0                          >Genoma_CpI19_Refinada_v2              B    S   \n",
       "1  >KU956957.1:672-1460 Escherichia coli strain 1...              B    S   \n",
       "2                                                NaN  25/10/25  NaN  NaN   \n",
       "\n",
       "                                                 SEQ  \n",
       "0  [G, T, G, T, C, G, G, A, G, G, C, T, C, C, A, ...  \n",
       "1  [A, T, G, A, G, G, G, A, A, G, C, G, G, T, G, ...  \n",
       "2                                                NaN  "
      ]
     },
     "execution_count": 46,
     "metadata": {},
     "output_type": "execute_result"
    }
   ],
   "source": [
    "df"
   ]
  }
 ],
 "metadata": {
  "kernelspec": {
   "display_name": "Python 3",
   "language": "python",
   "name": "python3"
  },
  "language_info": {
   "codemirror_mode": {
    "name": "ipython",
    "version": 3
   },
   "file_extension": ".py",
   "mimetype": "text/x-python",
   "name": "python",
   "nbconvert_exporter": "python",
   "pygments_lexer": "ipython3",
   "version": "3.10.12"
  }
 },
 "nbformat": 4,
 "nbformat_minor": 2
}
